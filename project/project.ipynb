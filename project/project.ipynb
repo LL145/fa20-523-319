{
  "nbformat": 4,
  "nbformat_minor": 0,
  "metadata": {
    "colab": {
      "name": "project.ipynb",
      "provenance": [],
      "authorship_tag": "ABX9TyPse4pVynnsqc+WCJYqAQWB",
      "include_colab_link": true
    },
    "kernelspec": {
      "name": "python3",
      "display_name": "Python 3"
    }
  },
  "cells": [
    {
      "cell_type": "markdown",
      "metadata": {
        "id": "view-in-github",
        "colab_type": "text"
      },
      "source": [
        "<a href=\"https://colab.research.google.com/github/cybertraining-dsc/fa20-523-319/blob/master/project/project.ipynb\" target=\"_parent\"><img src=\"https://colab.research.google.com/assets/colab-badge.svg\" alt=\"Open In Colab\"/></a>"
      ]
    },
    {
      "cell_type": "code",
      "metadata": {
        "id": "xCGDa_NIWHbp"
      },
      "source": [
        "# Rama Asuri\n",
        "# Title - Detect and classify pathologies in chest X-rays using PyTorch library"
      ],
      "execution_count": null,
      "outputs": []
    },
    {
      "cell_type": "markdown",
      "metadata": {
        "id": "VLs9PzSiZO2c"
      },
      "source": [
        "Deep learning methods are becoming very reliable at achieving expert level\n",
        "performance using large labeled datasets. CheXpert is a large dataset that\n",
        "contains 224,316 chest radiographs of 65,240 patients. This dataset contains\n",
        "14 observations in radiology reports and also capturing uncertainties\n",
        "inherent in radiograph interpretation. There is also a validation set of 200\n",
        "chest radiographic studies which were manually annotated by 3 board-certified\n",
        "radiologists. Model should detect 5 pathologies. This a public dataset[3] and\n",
        "has a strong radiologist-annotated ground truth and expert scores against which\n",
        "can compare the model [1].\n"
      ]
    }
  ]
}